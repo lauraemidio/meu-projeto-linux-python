{
  "nbformat": 4,
  "nbformat_minor": 0,
  "metadata": {
    "colab": {
      "provenance": []
    },
    "kernelspec": {
      "name": "python3",
      "display_name": "Python 3"
    },
    "language_info": {
      "name": "python"
    }
  },
  "cells": [
    {
      "cell_type": "code",
      "execution_count": null,
      "metadata": {
        "colab": {
          "base_uri": "https://localhost:8080/"
        },
        "id": "-V60K-fiX2g0",
        "outputId": "2b329619-44aa-4521-8da3-e37ebf503610"
      },
      "outputs": [
        {
          "output_type": "stream",
          "name": "stdout",
          "text": [
            "Digite o primeiro número: 4\n",
            "Digite o segundo número: 5\n",
            "\n",
            "Escolha a operação matemática:\n",
            "1 - Soma\n",
            "2 - Subtração\n",
            "3 - Multiplicação\n",
            "4 - Divisão\n",
            "5 - Sair\n",
            "Digite o número correspondente à operação desejada: 1\n",
            "Resultado: 4.0 + 5.0 = 9.0\n",
            "\n",
            "Escolha a operação matemática:\n",
            "1 - Soma\n",
            "2 - Subtração\n",
            "3 - Multiplicação\n",
            "4 - Divisão\n",
            "5 - Sair\n",
            "Digite o número correspondente à operação desejada: 3\n",
            "Resultado: 4.0 * 5.0 = 20.0\n",
            "\n",
            "Escolha a operação matemática:\n",
            "1 - Soma\n",
            "2 - Subtração\n",
            "3 - Multiplicação\n",
            "4 - Divisão\n",
            "5 - Sair\n"
          ]
        }
      ],
      "source": [
        "# Solicita ao usuário que insira dois números\n",
        "num1 = float(input(\"Digite o primeiro número: \"))\n",
        "num2 = float(input(\"Digite o segundo número: \"))\n",
        "\n",
        "while True:\n",
        "    # Exibe opções de operações matemáticas\n",
        "    print(\"\\nEscolha a operação matemática:\")\n",
        "    print(\"1 - Soma\")\n",
        "    print(\"2 - Subtração\")\n",
        "    print(\"3 - Multiplicação\")\n",
        "    print(\"4 - Divisão\")\n",
        "    print(\"5 - Sair\")\n",
        "\n",
        "    # Recebe a escolha do usuário\n",
        "    escolha = input(\"Digite o número correspondente à operação desejada: \")\n",
        "\n",
        "    # Executa a operação escolhida\n",
        "    if escolha == \"1\":\n",
        "        resultado = num1 + num2\n",
        "        print(f\"Resultado: {num1} + {num2} = {resultado}\")\n",
        "    elif escolha == \"2\":\n",
        "        resultado = num1 - num2\n",
        "        print(f\"Resultado: {num1} - {num2} = {resultado}\")\n",
        "    elif escolha == \"3\":\n",
        "        resultado = num1 * num2\n",
        "        print(f\"Resultado: {num1} * {num2} = {resultado}\")\n",
        "    elif escolha == \"4\":\n",
        "        if num2 != 0:\n",
        "            resultado = num1 / num2\n",
        "            print(f\"Resultado: {num1} / {num2} = {resultado}\")\n",
        "        else:\n",
        "            print(\"Erro: Não é possível dividir por zero.\")\n",
        "    elif escolha == \"5\":\n",
        "        print(\"Encerrando o programa.\")\n",
        "        break\n",
        "    else:\n",
        "        print(\"Opção inválida. Escolha um número entre 1 e 5.\")\n"
      ]
    }
  ]
}